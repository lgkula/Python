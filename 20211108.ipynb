{
 "cells": [
  {
   "cell_type": "code",
   "execution_count": 3,
   "id": "c7e5438e",
   "metadata": {},
   "outputs": [],
   "source": [
    "l1=[\"ala\", \"ma\", \"duzego\", \"kota\", \"ktory\", \"ciagle\", \"je\"]"
   ]
  },
  {
   "cell_type": "code",
   "execution_count": 4,
   "id": "02eaee35",
   "metadata": {},
   "outputs": [
    {
     "name": "stdout",
     "output_type": "stream",
     "text": [
      "ala\n"
     ]
    }
   ],
   "source": [
    "print(l1[0])"
   ]
  },
  {
   "cell_type": "code",
   "execution_count": 5,
   "id": "2262b893",
   "metadata": {},
   "outputs": [
    {
     "data": {
      "text/plain": [
       "'Ala'"
      ]
     },
     "execution_count": 5,
     "metadata": {},
     "output_type": "execute_result"
    }
   ],
   "source": [
    "l1[0].capitalize()"
   ]
  },
  {
   "cell_type": "code",
   "execution_count": 22,
   "id": "8087c564",
   "metadata": {},
   "outputs": [],
   "source": [
    "s1=\"Ala ma dużego kota który ciągle duzo je\"\n",
    "s2=\"Ala, ma, dużego, kota, który, ciągle, duzo, je\""
   ]
  },
  {
   "cell_type": "code",
   "execution_count": 10,
   "id": "ef01d9bb",
   "metadata": {},
   "outputs": [
    {
     "data": {
      "text/plain": [
       "['Ala', 'ma', 'dużego', 'kota', 'który', 'ciągle', 'duzo', 'je']"
      ]
     },
     "execution_count": 10,
     "metadata": {},
     "output_type": "execute_result"
    }
   ],
   "source": [
    "s1.rsplit(sep=None, maxsplit=-3)"
   ]
  },
  {
   "cell_type": "code",
   "execution_count": 27,
   "id": "eae1236a",
   "metadata": {},
   "outputs": [
    {
     "data": {
      "text/plain": [
       "['Ala, ma, dużego, kota, który, ciągle', ' duzo', ' je']"
      ]
     },
     "execution_count": 27,
     "metadata": {},
     "output_type": "execute_result"
    }
   ],
   "source": [
    "s2.rsplit(sep=\",\", maxsplit=2)"
   ]
  },
  {
   "cell_type": "code",
   "execution_count": 28,
   "id": "c18f4af7",
   "metadata": {},
   "outputs": [
    {
     "data": {
      "text/plain": [
       "['Ala', ' ma', ' dużego, kota, który, ciągle, duzo, je']"
      ]
     },
     "execution_count": 28,
     "metadata": {},
     "output_type": "execute_result"
    }
   ],
   "source": [
    "s2.split(sep=\",\", maxsplit=2)"
   ]
  },
  {
   "cell_type": "code",
   "execution_count": 29,
   "id": "e388ae4e",
   "metadata": {},
   "outputs": [],
   "source": [
    "s3=\"wiolentynadkyuhuioi\""
   ]
  },
  {
   "cell_type": "code",
   "execution_count": 36,
   "id": "36f88e7b",
   "metadata": {},
   "outputs": [
    {
     "data": {
      "text/plain": [
       "'wiolentynadkyuh'"
      ]
     },
     "execution_count": 36,
     "metadata": {},
     "output_type": "execute_result"
    }
   ],
   "source": [
    "s3.rstrip('uio          ')"
   ]
  },
  {
   "cell_type": "code",
   "execution_count": 37,
   "id": "5729ecbe",
   "metadata": {},
   "outputs": [
    {
     "data": {
      "text/plain": [
       "'example'"
      ]
     },
     "execution_count": 37,
     "metadata": {},
     "output_type": "execute_result"
    }
   ],
   "source": [
    "'www.example.com'.strip('cmowz.')"
   ]
  },
  {
   "cell_type": "code",
   "execution_count": 39,
   "id": "9f784c2a",
   "metadata": {},
   "outputs": [
    {
     "data": {
      "text/plain": [
       "'wiolentynadkyuh'"
      ]
     },
     "execution_count": 39,
     "metadata": {},
     "output_type": "execute_result"
    }
   ],
   "source": [
    "\"wiolentynadkyuhuioi\".strip('uio')"
   ]
  },
  {
   "cell_type": "code",
   "execution_count": 47,
   "id": "2252e42c",
   "metadata": {},
   "outputs": [],
   "source": [
    "x=3\n",
    "y=3\n"
   ]
  },
  {
   "cell_type": "code",
   "execution_count": 48,
   "id": "6548492d",
   "metadata": {},
   "outputs": [
    {
     "data": {
      "text/plain": [
       "True"
      ]
     },
     "execution_count": 48,
     "metadata": {},
     "output_type": "execute_result"
    }
   ],
   "source": [
    "(x == 3 or y == 3)"
   ]
  },
  {
   "cell_type": "code",
   "execution_count": 67,
   "id": "054d78cc",
   "metadata": {},
   "outputs": [],
   "source": [
    "x1=[2,[3],5,6]\n",
    "y1=[3]"
   ]
  },
  {
   "cell_type": "code",
   "execution_count": 68,
   "id": "b3c9dab2",
   "metadata": {},
   "outputs": [
    {
     "data": {
      "text/plain": [
       "False"
      ]
     },
     "execution_count": 68,
     "metadata": {},
     "output_type": "execute_result"
    }
   ],
   "source": [
    "x1 in y1"
   ]
  },
  {
   "cell_type": "code",
   "execution_count": 69,
   "id": "7bcdb06c",
   "metadata": {},
   "outputs": [
    {
     "data": {
      "text/plain": [
       "True"
      ]
     },
     "execution_count": 69,
     "metadata": {},
     "output_type": "execute_result"
    }
   ],
   "source": [
    "y1 in x1"
   ]
  },
  {
   "cell_type": "code",
   "execution_count": 74,
   "id": "842b5499",
   "metadata": {},
   "outputs": [],
   "source": [
    "x3=[1,2,3,4,5,6,7,8,9,10,11,12,13,14,15,16,17,18,19,20]"
   ]
  },
  {
   "cell_type": "code",
   "execution_count": 78,
   "id": "a7f64c30",
   "metadata": {},
   "outputs": [],
   "source": [
    "x4=[\"a\",\"b\",\"c\"]\n",
    "x5=[\"d\",\"e\",\"f\",\"g\"]"
   ]
  },
  {
   "cell_type": "code",
   "execution_count": 81,
   "id": "79f0a4a9",
   "metadata": {},
   "outputs": [],
   "source": [
    "del x3[1:8:3]"
   ]
  },
  {
   "cell_type": "code",
   "execution_count": 82,
   "id": "48e4b4af",
   "metadata": {},
   "outputs": [
    {
     "name": "stdout",
     "output_type": "stream",
     "text": [
      "[1, 3, 4, 6, 7, 9, 10, 11, 12, 13, 14, 15, 16, 17, 18, 19, 20]\n"
     ]
    }
   ],
   "source": [
    "print(x3)"
   ]
  },
  {
   "cell_type": "code",
   "execution_count": 100,
   "id": "1b810f01",
   "metadata": {},
   "outputs": [],
   "source": [
    "x6=[1,2,3,4,5,6,7]"
   ]
  },
  {
   "cell_type": "code",
   "execution_count": 93,
   "id": "34e871d6",
   "metadata": {},
   "outputs": [],
   "source": [
    "x6[1]=\"A\""
   ]
  },
  {
   "cell_type": "code",
   "execution_count": 94,
   "id": "701f1b37",
   "metadata": {},
   "outputs": [
    {
     "name": "stdout",
     "output_type": "stream",
     "text": [
      "[1, 'A', 3, 4, 5, 6, 7]\n"
     ]
    }
   ],
   "source": [
    "print(x6)"
   ]
  },
  {
   "cell_type": "code",
   "execution_count": 95,
   "id": "085ef85e",
   "metadata": {},
   "outputs": [],
   "source": [
    "x6.insert(1,\"C\")"
   ]
  },
  {
   "cell_type": "code",
   "execution_count": 101,
   "id": "afff00d2",
   "metadata": {},
   "outputs": [
    {
     "name": "stdout",
     "output_type": "stream",
     "text": [
      "[1, 2, 3, 4, 5, 6, 7]\n"
     ]
    }
   ],
   "source": [
    "print(x6)"
   ]
  },
  {
   "cell_type": "code",
   "execution_count": 104,
   "id": "90a74e7a",
   "metadata": {},
   "outputs": [
    {
     "ename": "SyntaxError",
     "evalue": "invalid syntax (<ipython-input-104-4322eb0e467c>, line 1)",
     "output_type": "error",
     "traceback": [
      "\u001b[1;36m  File \u001b[1;32m\"<ipython-input-104-4322eb0e467c>\"\u001b[1;36m, line \u001b[1;32m1\u001b[0m\n\u001b[1;33m    x6.pop(1:3)\u001b[0m\n\u001b[1;37m            ^\u001b[0m\n\u001b[1;31mSyntaxError\u001b[0m\u001b[1;31m:\u001b[0m invalid syntax\n"
     ]
    }
   ],
   "source": [
    "x6.pop(1:3)"
   ]
  },
  {
   "cell_type": "code",
   "execution_count": 103,
   "id": "dca95569",
   "metadata": {},
   "outputs": [
    {
     "name": "stdout",
     "output_type": "stream",
     "text": [
      "[1, 2, 3, 4, 5, 7]\n"
     ]
    }
   ],
   "source": [
    "print(x6)"
   ]
  },
  {
   "cell_type": "code",
   "execution_count": 105,
   "id": "148ee9cc",
   "metadata": {},
   "outputs": [],
   "source": [
    "x6.reverse()=x6"
   ]
  },
  {
   "cell_type": "code",
   "execution_count": 106,
   "id": "959c3953",
   "metadata": {},
   "outputs": [
    {
     "name": "stdout",
     "output_type": "stream",
     "text": [
      "[7, 5, 4, 3, 2, 1]\n"
     ]
    }
   ],
   "source": [
    "print(x6)"
   ]
  },
  {
   "cell_type": "code",
   "execution_count": 107,
   "id": "21c439bc",
   "metadata": {},
   "outputs": [],
   "source": [
    " a1=\"Asia\""
   ]
  },
  {
   "cell_type": "code",
   "execution_count": 108,
   "id": "4c593447",
   "metadata": {},
   "outputs": [
    {
     "data": {
      "text/plain": [
       "'000000Asia'"
      ]
     },
     "execution_count": 108,
     "metadata": {},
     "output_type": "execute_result"
    }
   ],
   "source": [
    "a1.zfill(10)"
   ]
  },
  {
   "cell_type": "code",
   "execution_count": 109,
   "id": "ed130870",
   "metadata": {},
   "outputs": [
    {
     "name": "stdout",
     "output_type": "stream",
     "text": [
      "Jakiered\n"
     ]
    }
   ],
   "source": [
    "light=input(\"Jakie\")"
   ]
  },
  {
   "cell_type": "code",
   "execution_count": null,
   "id": "1bee9f14",
   "metadata": {},
   "outputs": [],
   "source": []
  }
 ],
 "metadata": {
  "kernelspec": {
   "display_name": "Python 3",
   "language": "python",
   "name": "python3"
  },
  "language_info": {
   "codemirror_mode": {
    "name": "ipython",
    "version": 3
   },
   "file_extension": ".py",
   "mimetype": "text/x-python",
   "name": "python",
   "nbconvert_exporter": "python",
   "pygments_lexer": "ipython3",
   "version": "3.8.8"
  }
 },
 "nbformat": 4,
 "nbformat_minor": 5
}
